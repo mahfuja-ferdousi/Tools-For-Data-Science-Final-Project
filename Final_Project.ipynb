{
 "cells": [
  {
   "cell_type": "markdown",
   "metadata": {},
   "source": [
    "<h1>\"My Jupyter Notebook on IBM Watson Studio\"</h1>"
   ]
  },
  {
   "cell_type": "markdown",
   "metadata": {},
   "source": [
    "<b>Mahfuja Ferdousi Mahin</b><br>\n",
    "My desired Occupation is \"Data Scientist\" and \"Researcher\""
   ]
  },
  {
   "cell_type": "markdown",
   "metadata": {},
   "source": [
    "<i>Data science allows me to try various ideas using scientific methods. Moreover, I have always liked working on math problems but find doing so in a theoretical fashion somehow limiting. Applying mathematical reasoning to real-world problems is very satisfying. Finally, the data science field is growing rapidly and there is always new things to learn. This is something that I enjoy a lot as well: learning new content and sharing my knowledge with others.</i>\n",
    "\n"
   ]
  },
  {
   "cell_type": "markdown",
   "metadata": {},
   "source": [
    "<h3>I will put if-else condition in Cell-5. If the input is equal to 1 then it will print \"It's one\". If the input is equal to 5 then it will print \"It's five\". Otherwise it will print \"Not Valid!\". I'm just doing a simple code.</h3>"
   ]
  },
  {
   "cell_type": "code",
   "execution_count": 1,
   "metadata": {},
   "outputs": [
    {
     "name": "stdout",
     "output_type": "stream",
     "text": [
      "Enter your number: 5\n",
      "It's five\n"
     ]
    }
   ],
   "source": [
    "inp = int(input(\"Enter your number: \"))\n",
    "\n",
    "if inp == 1:\n",
    "    print(\"It's One!\")\n",
    "elif inp == 5:\n",
    "    print(\"It's five\")\n",
    "else:\n",
    "    print(\"Not Valid!\")"
   ]
  },
  {
   "cell_type": "markdown",
   "metadata": {},
   "source": [
    "<ol>\n",
    "    <li>A</li>\n",
    "    <li>B</li>\n",
    "    <li>C</li>\n",
    "</ol>\n",
    "<hr>\n",
    "<ul>\n",
    "    <li>D</li>\n",
    "    <li>E</li>\n",
    "    <li>F</li>\n",
    "</ul>\n",
    "<hr>\n",
    "<table style=\"width:50%\">\n",
    "  <tr>\n",
    "    <th>Firstname</th>\n",
    "    <th>Lastname</th>\n",
    "    <th>Age</th>\n",
    "  </tr>\n",
    "  <tr>\n",
    "    <td>Mahfuja</td>\n",
    "    <td>Mahin</td>\n",
    "    <td>21</td>\n",
    "  </tr>\n",
    "  <tr>\n",
    "    <td>Mehjabin</td>\n",
    "    <td>Nahin</td>\n",
    "    <td>16</td>\n",
    "  </tr>\n",
    "</table>"
   ]
  },
  {
   "cell_type": "code",
   "execution_count": null,
   "metadata": {},
   "outputs": [],
   "source": []
  }
 ],
 "metadata": {
  "kernelspec": {
   "display_name": "Python 3",
   "language": "python",
   "name": "python3"
  },
  "language_info": {
   "codemirror_mode": {
    "name": "ipython",
    "version": 3
   },
   "file_extension": ".py",
   "mimetype": "text/x-python",
   "name": "python",
   "nbconvert_exporter": "python",
   "pygments_lexer": "ipython3",
   "version": "3.7.3"
  }
 },
 "nbformat": 4,
 "nbformat_minor": 4
}
